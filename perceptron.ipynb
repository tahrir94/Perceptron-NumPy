{
 "cells": [
  {
   "cell_type": "markdown",
   "metadata": {},
   "source": [
    "In this notebook the Perceptron class is defined. This class includes all the parameters and functions needed for a single perceptron learning algorithm for classifying linearly seperable data. It can be imported in another ipynb/python file and instantiated as a Perceptron object."
   ]
  },
  {
   "cell_type": "code",
   "execution_count": 1,
   "metadata": {},
   "outputs": [],
   "source": [
    "import numpy as np\n",
    "\n",
    "class Perceptron:\n",
    "    \n",
    "    # initialize the default learning rate, number of iterations, activation function, weights, and bias\n",
    "    def __init__(self, learning_rate=0.1, n_iters=100):\n",
    "        self.lr = learning_rate\n",
    "        self.n_iters = n_iters\n",
    "        self.activation_func = self.unit_step_func\n",
    "        self.weights = None\n",
    "        self.bias = None\n",
    "    \n",
    "    # function to fit training data\n",
    "    def fit(self, X, y):\n",
    "        n_samples, n_features = X.shape\n",
    "        \n",
    "        # initialize weights and bias to 0\n",
    "        self.weights = np.zeros(n_features)\n",
    "        self.bias = 0\n",
    "        \n",
    "        # generate 1D label array for y input in case it hasn't already been done \n",
    "        y_ = np.array([1 if i>0 else -1 for i in y])\n",
    "        \n",
    "        # for each iteration, calculate linear output, y predicitions using activation function, and updated weights and bias\n",
    "        for _ in range(self.n_iters):\n",
    "            for idx, x_i in enumerate(X):\n",
    "                linear_output = np.dot(x_i, self.weights) + self.bias\n",
    "                y_predicted = self.activation_func(linear_output)\n",
    "                \n",
    "                update = self.lr * (y_[idx] - y_predicted)\n",
    "                self.weights += update*x_i\n",
    "                self.bias += update\n",
    "                \n",
    "    # function to predict y labels of test data\n",
    "    def predict(self, X):\n",
    "        linear_output = np.dot(X, self.weights) + self.bias\n",
    "        y_predicted = self.activation_func(linear_output)\n",
    "        return y_predicted\n",
    "    \n",
    "    # activation function\n",
    "    def unit_step_func(self, x):\n",
    "        return np.where(x>0, 1, -1)"
   ]
  }
 ],
 "metadata": {
  "kernelspec": {
   "display_name": "Python 3",
   "language": "python",
   "name": "python3"
  },
  "language_info": {
   "codemirror_mode": {
    "name": "ipython",
    "version": 3
   },
   "file_extension": ".py",
   "mimetype": "text/x-python",
   "name": "python",
   "nbconvert_exporter": "python",
   "pygments_lexer": "ipython3",
   "version": "3.8.3"
  }
 },
 "nbformat": 4,
 "nbformat_minor": 4
}
